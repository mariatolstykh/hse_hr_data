{
 "cells": [
  {
   "cell_type": "markdown",
   "id": "objective-equipment",
   "metadata": {},
   "source": [
    "## SQLite и Pandas\n",
    "\n",
    "Сегодня мы поработаем над тем как извлекать данные из базы данных SQLite. Для начала импортируем нужные нам библиотечки."
   ]
  },
  {
   "cell_type": "code",
   "execution_count": 4,
   "id": "protective-clock",
   "metadata": {},
   "outputs": [],
   "source": [
    "import sqlite3\n",
    "import pandas as pd"
   ]
  },
  {
   "cell_type": "markdown",
   "id": "peaceful-notion",
   "metadata": {},
   "source": [
    "Напоминаю, что \"библиотека\" в питоне -- это просто .py-файлики, содержащие наборы функций и объектов, которые можно просто извлекать и использовать. \n",
    "\n",
    "Импортировав две библиотеки выше мы добавили их в нашу рабочую среду и теперь они готовы к использованию. \n",
    "\n",
    "Вы можете написать свои библиотеки для конкретных повторяющихся задач. Иногда это удобно. Иногда нет."
   ]
  },
  {
   "cell_type": "code",
   "execution_count": 5,
   "id": "latest-surgery",
   "metadata": {},
   "outputs": [],
   "source": [
    "# Создаем коннектор к файлу нашей базы данных. \n",
    "# Само собой, файлик Базы Данных должен лежать рядом с файлом блокнота (который вы сейчас читаете). \n",
    "con = sqlite3.connect('DBname.db')"
   ]
  },
  {
   "cell_type": "code",
   "execution_count": 6,
   "id": "psychological-circuit",
   "metadata": {},
   "outputs": [],
   "source": [
    "# Не спрашивайте\n",
    "cur = con.cursor()"
   ]
  },
  {
   "cell_type": "code",
   "execution_count": 9,
   "id": "regular-nutrition",
   "metadata": {
    "scrolled": true
   },
   "outputs": [
    {
     "data": {
      "text/plain": [
       "[('Маша', 5, '2020-01-01'),\n",
       " ('Петя', 4, '2020-01-01'),\n",
       " ('Вася', 3, '2020-01-01'),\n",
       " ('Саша', 4, '2020-01-01'),\n",
       " ('Маша', 4, '2020-01-02'),\n",
       " ('Петя', 4, '2020-01-02'),\n",
       " ('Вася', 4, '2020-01-02'),\n",
       " ('Саша', 5, '2020-01-02'),\n",
       " ('Маша', 5, '2020-01-03'),\n",
       " ('Петя', 3, '2020-01-03'),\n",
       " ('Вася', 2, '2020-01-03'),\n",
       " ('Саша', 5, '2020-01-03'),\n",
       " ('Маша', 3, '2020-01-04'),\n",
       " ('Петя', 3, '2020-01-04'),\n",
       " ('Вася', 3, '2020-01-04'),\n",
       " ('Саша', 3, '2020-01-04'),\n",
       " ('Максим', 2, '2020-01-04'),\n",
       " ('Маша', 5, '2020-01-05'),\n",
       " ('Петя', 3, '2020-01-05'),\n",
       " ('Вася', 3, '2020-01-05'),\n",
       " ('Саша', 3, '2020-01-05')]"
      ]
     },
     "execution_count": 9,
     "metadata": {},
     "output_type": "execute_result"
    }
   ],
   "source": [
    "# Таким образом исполняется запрос к Базе Данных. \n",
    "# Здесь Python передает предложение SELECT в СУБД (в данном случае это библиотечка sqlite3) и выполняет его, а возвращает набор данных из таблицы (результат работы SELECT)\n",
    "\n",
    "cur.execute('SELECT * FROM EmployeePoints').fetchall()"
   ]
  },
  {
   "cell_type": "code",
   "execution_count": 14,
   "id": "2238b8b5",
   "metadata": {},
   "outputs": [
    {
     "data": {
      "text/plain": [
       "[('Маша',), ('Петя',), ('Вася',), ('Саша',), ('Максим',)]"
      ]
     },
     "execution_count": 14,
     "metadata": {},
     "output_type": "execute_result"
    }
   ],
   "source": [
    "cur.execute('SELECT DISTINCT EMPLOYEE FROM EmployeePoints ').fetchall()"
   ]
  },
  {
   "cell_type": "code",
   "execution_count": 15,
   "id": "everyday-pipeline",
   "metadata": {},
   "outputs": [
    {
     "data": {
      "text/plain": [
       "[('Маша', 3), ('Саша', 2)]"
      ]
     },
     "execution_count": 15,
     "metadata": {},
     "output_type": "execute_result"
    }
   ],
   "source": [
    "# Можно выполнять и более сложные селекты\n",
    "\n",
    "cur.execute(\"\"\"\n",
    "\n",
    "SELECT Employee, count(Point) from EmployeePoints\n",
    "where point=5\n",
    "group by Employee\n",
    "Order by count(point) desc;\n",
    "\n",
    "\"\"\").fetchall()"
   ]
  },
  {
   "cell_type": "markdown",
   "id": "aboriginal-crack",
   "metadata": {},
   "source": [
    "# Pandas\n"
   ]
  },
  {
   "cell_type": "markdown",
   "id": "impossible-banner",
   "metadata": {},
   "source": [
    "В Пандасе есть встроенный метод read_sql для исполнения SQL-запросов. И он неплохо работает с SQLite.\n",
    "\n",
    "Обратите внимание на то, как мы передаем в него коннектор (объект con) для подключения к Базе Данных. \n",
    "\n",
    "Выражение 'df =' означает, что результат работы метода read_sql мы складываем в уже пандасовский объект с названием df."
   ]
  },
  {
   "cell_type": "code",
   "execution_count": 16,
   "id": "academic-childhood",
   "metadata": {},
   "outputs": [],
   "source": [
    "df = pd.read_sql(\"\"\"\n",
    "\n",
    "SELECT DISTINCT EMPLOYEE FROM EmployeePoints\n",
    "\n",
    "\"\"\", con)"
   ]
  },
  {
   "cell_type": "markdown",
   "id": "super-thumbnail",
   "metadata": {},
   "source": [
    "Мы извлекли из БД таблицу и сложили ее в пандас-датафрейм df (это уже объект в Python).\n",
    "\n",
    "Далее можем работать с ним как пожелаем."
   ]
  },
  {
   "cell_type": "code",
   "execution_count": 17,
   "id": "gorgeous-questionnaire",
   "metadata": {
    "scrolled": true
   },
   "outputs": [
    {
     "data": {
      "text/html": [
       "<div>\n",
       "<style scoped>\n",
       "    .dataframe tbody tr th:only-of-type {\n",
       "        vertical-align: middle;\n",
       "    }\n",
       "\n",
       "    .dataframe tbody tr th {\n",
       "        vertical-align: top;\n",
       "    }\n",
       "\n",
       "    .dataframe thead th {\n",
       "        text-align: right;\n",
       "    }\n",
       "</style>\n",
       "<table border=\"1\" class=\"dataframe\">\n",
       "  <thead>\n",
       "    <tr style=\"text-align: right;\">\n",
       "      <th></th>\n",
       "      <th>Employee</th>\n",
       "    </tr>\n",
       "  </thead>\n",
       "  <tbody>\n",
       "    <tr>\n",
       "      <th>0</th>\n",
       "      <td>Маша</td>\n",
       "    </tr>\n",
       "    <tr>\n",
       "      <th>1</th>\n",
       "      <td>Петя</td>\n",
       "    </tr>\n",
       "    <tr>\n",
       "      <th>2</th>\n",
       "      <td>Вася</td>\n",
       "    </tr>\n",
       "    <tr>\n",
       "      <th>3</th>\n",
       "      <td>Саша</td>\n",
       "    </tr>\n",
       "    <tr>\n",
       "      <th>4</th>\n",
       "      <td>Максим</td>\n",
       "    </tr>\n",
       "  </tbody>\n",
       "</table>\n",
       "</div>"
      ],
      "text/plain": [
       "  Employee\n",
       "0     Маша\n",
       "1     Петя\n",
       "2     Вася\n",
       "3     Саша\n",
       "4   Максим"
      ]
     },
     "execution_count": 17,
     "metadata": {},
     "output_type": "execute_result"
    }
   ],
   "source": [
    "df"
   ]
  },
  {
   "cell_type": "code",
   "execution_count": 18,
   "id": "34a88d98",
   "metadata": {},
   "outputs": [],
   "source": [
    "df = pd.read_sql(\"\"\"\n",
    "\n",
    "SELECT Employee, count(Point) from EmployeePoints\n",
    "where point=5\n",
    "group by Employee\n",
    "Order by count(point) desc;\n",
    "\n",
    "\"\"\", con)"
   ]
  },
  {
   "cell_type": "code",
   "execution_count": 19,
   "id": "50307d6d",
   "metadata": {},
   "outputs": [
    {
     "data": {
      "text/html": [
       "<div>\n",
       "<style scoped>\n",
       "    .dataframe tbody tr th:only-of-type {\n",
       "        vertical-align: middle;\n",
       "    }\n",
       "\n",
       "    .dataframe tbody tr th {\n",
       "        vertical-align: top;\n",
       "    }\n",
       "\n",
       "    .dataframe thead th {\n",
       "        text-align: right;\n",
       "    }\n",
       "</style>\n",
       "<table border=\"1\" class=\"dataframe\">\n",
       "  <thead>\n",
       "    <tr style=\"text-align: right;\">\n",
       "      <th></th>\n",
       "      <th>Employee</th>\n",
       "      <th>count(Point)</th>\n",
       "    </tr>\n",
       "  </thead>\n",
       "  <tbody>\n",
       "    <tr>\n",
       "      <th>0</th>\n",
       "      <td>Маша</td>\n",
       "      <td>3</td>\n",
       "    </tr>\n",
       "    <tr>\n",
       "      <th>1</th>\n",
       "      <td>Саша</td>\n",
       "      <td>2</td>\n",
       "    </tr>\n",
       "  </tbody>\n",
       "</table>\n",
       "</div>"
      ],
      "text/plain": [
       "  Employee  count(Point)\n",
       "0     Маша             3\n",
       "1     Саша             2"
      ]
     },
     "execution_count": 19,
     "metadata": {},
     "output_type": "execute_result"
    }
   ],
   "source": [
    "df"
   ]
  },
  {
   "cell_type": "markdown",
   "id": "impressive-patient",
   "metadata": {},
   "source": [
    "Почитать: https://medium.com/@bigdataschool/%D0%B8%D0%BD%D1%82%D0%B5%D0%B3%D1%80%D0%B0%D1%86%D0%B8%D1%8F-sqlite-%D0%B8-pandas-456d813462c5"
   ]
  }
 ],
 "metadata": {
  "kernelspec": {
   "display_name": "Python 3",
   "language": "python",
   "name": "python3"
  },
  "language_info": {
   "codemirror_mode": {
    "name": "ipython",
    "version": 3
   },
   "file_extension": ".py",
   "mimetype": "text/x-python",
   "name": "python",
   "nbconvert_exporter": "python",
   "pygments_lexer": "ipython3",
   "version": "3.8.8"
  }
 },
 "nbformat": 4,
 "nbformat_minor": 5
}
